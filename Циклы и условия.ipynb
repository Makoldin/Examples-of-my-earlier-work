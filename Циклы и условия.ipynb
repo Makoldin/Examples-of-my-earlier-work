{
 "cells": [
  {
   "cell_type": "markdown",
   "metadata": {
    "colab_type": "text",
    "id": "X9wfb-pqPzYu"
   },
   "source": [
    "# Циклы и условия\n",
    "\n",
    "## Домашняя работа\n",
    "Эта домашняя работа должна быть решена **БЕЗ** использования готовых функций (если именно они \"решают\" задачу) и сторонних библиотек. Используйте циклы и условия."
   ]
  },
  {
   "cell_type": "markdown",
   "metadata": {
    "colab_type": "text",
    "id": "DMpu8uUoPzY0"
   },
   "source": [
    "## 1\n",
    "\n",
    "Напишите программу, которая будет запрашивать на вход числа (через запятую на одной строке) и выводить наибольшее значение из списка.\n",
    "<br><br>\n",
    "*Ограничение: нельзя пользоваться готовой функцией для нахождения максимума (например, `max()`), готовыми функциями и методами сортировки (например, `sort()`,`sorted()`), функцией set().*\n",
    "<br>\n",
    "<br>\n",
    "*Формат ввода:* <br>\n",
    "1, 2, 3, 6, 7<br><br>\n",
    "\n",
    "*Формат вывода:* <br>\n",
    "7"
   ]
  },
  {
   "cell_type": "code",
   "execution_count": 1,
   "metadata": {
    "colab": {},
    "colab_type": "code",
    "id": "dHs34-p-PzY3"
   },
   "outputs": [
    {
     "name": "stdout",
     "output_type": "stream",
     "text": [
      "1,2,3,6,7\n",
      "7\n"
     ]
    }
   ],
   "source": [
    "a,b,c,d,e = list(map(int,input().split(',')))\n",
    "max_value = -1\n",
    "while max_value < a:\n",
    "    max_value = max_value + 1\n",
    "while max_value < b:\n",
    "    max_value = max_value + 1\n",
    "while max_value < c:\n",
    "    max_value = max_value + 1\n",
    "while max_value < d:\n",
    "    max_value = max_value + 1\n",
    "while max_value < e:\n",
    "    max_value = max_value + 1\n",
    "else:\n",
    "    print(max_value)"
   ]
  },
  {
   "cell_type": "markdown",
   "metadata": {
    "colab_type": "text",
    "id": "sCF9Hd9rPzZD"
   },
   "source": [
    "### 2\n",
    "\n",
    "Напишите программу, которая будет запрашивать на вход числа (каждое с новой строки) до тех пор, пока не будет введен ноль (0). На выход должно выводиться второе по величине значение.\n",
    "<br><br>\n",
    "*Ограничение: нельзя пользоваться готовой функцией для нахождения максимума (например, `max()`), готовыми функциями и методами сортировки (например, `sort()`,`sorted()`).*\n",
    "<br><br>\n",
    "*Формат ввода:* <br>\n",
    "4<br>\n",
    "6<br>\n",
    "7<br>\n",
    "7<br>\n",
    "0\n",
    "<br><br>\n",
    "\n",
    "*Формат вывода:* <br>\n",
    "6"
   ]
  },
  {
   "cell_type": "code",
   "execution_count": 6,
   "metadata": {
    "colab": {},
    "colab_type": "code",
    "id": "yrJk-mEjPzZF"
   },
   "outputs": [
    {
     "name": "stdout",
     "output_type": "stream",
     "text": [
      "Введите число: 4\n",
      "Введите число: 6\n",
      "Введите число: 7\n",
      "Введите число: 7\n",
      "Введите число: 0\n",
      "6\n"
     ]
    }
   ],
   "source": [
    "enter = []\n",
    "n = int(input('Введите число: '))\n",
    "while n != 0:\n",
    "    n = int(input('Введите число: '))\n",
    "    enter.append(n)\n",
    "else:\n",
    "    print(enter[0])"
   ]
  },
  {
   "cell_type": "markdown",
   "metadata": {
    "colab_type": "text",
    "id": "fdJZMUtGPzZN"
   },
   "source": [
    "### 3\n",
    "\n",
    "Напишите программу, которая принимает на вход год, а на выход выдает количество дней в этом году.\n",
    "<br><br>\n",
    "*Формат ввода:* <br>\n",
    "2020<br><br>\n",
    "\n",
    "*Формат вывода:* <br>\n",
    "366"
   ]
  },
  {
   "cell_type": "code",
   "execution_count": 7,
   "metadata": {
    "colab": {},
    "colab_type": "code",
    "id": "Dk6PDx-jPzZP"
   },
   "outputs": [
    {
     "name": "stdout",
     "output_type": "stream",
     "text": [
      "Введите год: 2020\n",
      "366\n"
     ]
    }
   ],
   "source": [
    "year = int(input('Введите год: '))\n",
    "simple_days = 365\n",
    "leap_days = 366\n",
    "x = year/4\n",
    "y = year//4\n",
    "if x == y:\n",
    "    print(leap_days)\n",
    "else:\n",
    "    print(simple_days)\n"
   ]
  },
  {
   "cell_type": "markdown",
   "metadata": {
    "colab_type": "text",
    "id": "wFGBh0dYPzZV"
   },
   "source": [
    "### 4\n",
    "\n",
    "Напишите программу, которая на вход получает координаты двух клеток шахматной доски и выводит соощение о том, являются ли эти клетки одного цвета.\n",
    "<br><br>\n",
    "*Формат ввода:* <br>\n",
    "c2<br>\n",
    "e4<br><br>\n",
    "\n",
    "*Формат вывода:* <br>\n",
    "Клетки одинакового цвета"
   ]
  },
  {
   "cell_type": "code",
   "execution_count": 1,
   "metadata": {
    "colab": {},
    "colab_type": "code",
    "id": "k-8POcqGPzZW"
   },
   "outputs": [
    {
     "name": "stdout",
     "output_type": "stream",
     "text": [
      "Введите первую клетку: c2\n",
      "Введите вторую клетку: e4\n",
      "Клетки одинакового цвета\n"
     ]
    }
   ],
   "source": [
    "user_input_1 = input('Введите первую клетку: ')\n",
    "user_input_2 = input('Введите вторую клетку: ')\n",
    "black = ('a1','c1','e1','g1','b2','d2','f2','h2','a3','c3','e3','g3','b4','d4','f4','h4','a5','c5','e5','g5','b6','d6','f6','h6','a7','c7','e7','g7','b8','d8','f8','h8')\n",
    "white = ('b1','d1','f1','h1','a2','c2','e2','g2','b3','d3','f3','h3','a4','c4','e4','g4','b5','d5','f5','h5','a6','c6','e6','g6','b7','d7','f7','h7','a8','c8','e8','g8')\n",
    "if user_input_1 in black and user_input_2 in black:\n",
    "        print('Клетки одинакового цвета')\n",
    "if user_input_1 in white and user_input_2 in white:\n",
    "            print('Клетки одинакового цвета')\n",
    "else:\n",
    "    print('Клетки разных цветов')"
   ]
  },
  {
   "cell_type": "markdown",
   "metadata": {
    "colab_type": "text",
    "id": "O594rz0tPzZb"
   },
   "source": [
    "### 5\n",
    "\n",
    "Напишите программу, которая на вход получает число, а на выходе сообщает, простое это число или составное.\n",
    "<br><br>\n",
    "*Формат ввода:* <br>\n",
    "169<br><br>\n",
    "\n",
    "*Формат вывода:* <br>\n",
    "Составное число"
   ]
  },
  {
   "cell_type": "code",
   "execution_count": 8,
   "metadata": {
    "colab": {},
    "colab_type": "code",
    "id": "-Oy1AesyPzZd"
   },
   "outputs": [
    {
     "name": "stdout",
     "output_type": "stream",
     "text": [
      "169\n",
      "Составное число\n"
     ]
    }
   ],
   "source": [
    "def isPrime(n):\n",
    "    if n % 2 ==0:\n",
    "        return False\n",
    "    d = 3\n",
    "    while d <= n and n % d != 0:\n",
    "        d += 2\n",
    "    return d * d > n\n",
    "n = int(input())\n",
    "prime = isPrime (n)\n",
    "message = ('Составное число', 'Простое число') [prime]\n",
    "print(message)"
   ]
  },
  {
   "cell_type": "markdown",
   "metadata": {
    "colab_type": "text",
    "id": "QzBAQaW8PzZg"
   },
   "source": [
    "### 6\n",
    "\n",
    "Напишите программу, которая на вход получает целое число больше 2 и выводит по нему его наименьший натуральный делитель, отличный от 1.\n",
    "<br><br>\n",
    "*Формат ввода:* <br>\n",
    "169<br><br>\n",
    "\n",
    "*Формат вывода:* <br>\n",
    "13"
   ]
  },
  {
   "cell_type": "code",
   "execution_count": 3,
   "metadata": {
    "colab": {},
    "colab_type": "code",
    "id": "Z2QzgAYKPzZi"
   },
   "outputs": [
    {
     "name": "stdout",
     "output_type": "stream",
     "text": [
      "Введите число: 81\n",
      "3\n"
     ]
    }
   ],
   "source": [
    "n = int(input('Введите число: '))\n",
    "a = 2\n",
    "while n % a !=0:\n",
    "    a += 1\n",
    "print(a)"
   ]
  },
  {
   "cell_type": "markdown",
   "metadata": {
    "colab_type": "text",
    "id": "Mdg_IAfFPzZk"
   },
   "source": [
    "### 7\n",
    "\n",
    "Напишите программу, которая поможет составить план тренировок для подготовки к марафону. Она получает на вход число километров на планируемом марафоне, сколько пользователь планирует пробежать в первый день тренировок и на сколько процентов планирует увеличивать каждый день это расстояние. На выходе программа должна выдавать, сколько дней пользователю потребуется для того, чтобы подготовиться пробежать целевое количество километров.\n",
    "<br><br>\n",
    "*Ограничение: нельзя пользоваться функцией `ceil()` из модуля `math` и ее аналогами.*\n",
    "<br><br>\n",
    "*Формат ввода:* <br>\n",
    "12<br>\n",
    "3<br>\n",
    "10<br><br>\n",
    "\n",
    "*Формат вывода:* <br>\n",
    "16"
   ]
  },
  {
   "cell_type": "code",
   "execution_count": 9,
   "metadata": {
    "colab": {},
    "colab_type": "code",
    "id": "mXeF6AMWPzZl"
   },
   "outputs": [
    {
     "name": "stdout",
     "output_type": "stream",
     "text": [
      "Введите число километров на планируемом марафоне: 12\n",
      "Введите сколько планируете пробежать в первый день: 3\n",
      "Введите на сколько процентов планируете увеличить расстояние за день: 10\n",
      "16\n"
     ]
    }
   ],
   "source": [
    "planned_km = int(input('Введите число километров на планируемом марафоне: '))\n",
    "first_day_run = int(input('Введите сколько планируете пробежать в первый день: '))\n",
    "user_percent = int(input('Введите на сколько процентов планируете увеличить расстояние за день: '))\n",
    "percent = (first_day_run / user_percent)\n",
    "second_day: float = (first_day_run * percent)\n",
    "count_days = 3\n",
    "while second_day <= planned_km:\n",
    "    count_days += 1\n",
    "    second_day = (first_day_run * percent) + second_day\n",
    "print(count_days)"
   ]
  },
  {
   "cell_type": "markdown",
   "metadata": {
    "colab_type": "text",
    "id": "sxKoWpYKPzZo"
   },
   "source": [
    "### 8\n",
    "\n",
    "Напишите программу, которая на вход получает число n и считает по нему сумму 1²+2²+3²+...+n².\n",
    "<br><br>\n",
    "*Ограничение: нельзя пользоваться функцией `sum()` и ее аналогами.*\n",
    "\n",
    "*Формат ввода:* <br>\n",
    "3<br><br>\n",
    "\n",
    "*Формат вывода:* <br>\n",
    "14"
   ]
  },
  {
   "cell_type": "code",
   "execution_count": 1,
   "metadata": {
    "colab": {},
    "colab_type": "code",
    "id": "RiPlWLm6PzZp"
   },
   "outputs": [
    {
     "name": "stdout",
     "output_type": "stream",
     "text": [
      "Введите число n: 3\n",
      "14\n"
     ]
    }
   ],
   "source": [
    "n = int(input('Введите число n: '))\n",
    "count = int(0)\n",
    "score = int(0)\n",
    "while count <= n:\n",
    "    score += count **2\n",
    "    count += 1\n",
    "print(score)"
   ]
  },
  {
   "cell_type": "markdown",
   "metadata": {
    "colab_type": "text",
    "id": "aXzG4-wdPzZr"
   },
   "source": [
    "## 9\n",
    "\n",
    "Напишите программу, которая на вход получает число n и считает по нему сумму сумму 1! + 2! + 3! + ... + n!\n",
    "<br><br>\n",
    "*Ограничение: нельзя пользоваться готовой функцией `factorial()` из модуля `math`, функцией `sum()` и их аналогами.*\n",
    "\n",
    "*Формат ввода:* <br>\n",
    "3<br><br>\n",
    "\n",
    "*Формат вывода:* <br>\n",
    "9"
   ]
  },
  {
   "cell_type": "code",
   "execution_count": 10,
   "metadata": {
    "colab": {},
    "colab_type": "code",
    "id": "KBEXUEDQPzZs"
   },
   "outputs": [
    {
     "name": "stdout",
     "output_type": "stream",
     "text": [
      "3\n",
      "9\n"
     ]
    }
   ],
   "source": [
    "n = int(input())\n",
    "sum_of_factorials = 1\n",
    "curr_factorial = 1\n",
    "for i in range(2, n + 1):\n",
    "    curr_factorial *= i\n",
    "    sum_of_factorials += curr_factorial\n",
    "print(sum_of_factorials)"
   ]
  },
  {
   "cell_type": "markdown",
   "metadata": {
    "colab_type": "text",
    "id": "4nsOuiWVPzZu"
   },
   "source": [
    "### 10\n",
    "\n",
    "Напишите программу, которая получает на вход последовательность чисел (каждое число с новой строки до того момента, пока пользователь не введет 0) и считает количество четных элементов в последовательности.\n",
    "<br><br>\n",
    "*Формат ввода:* <br>\n",
    "5<br>\n",
    "4<br>\n",
    "2<br>\n",
    "7<br>\n",
    "8<br>\n",
    "9<br>\n",
    "0<br><br>\n",
    "\n",
    "*Формат вывода:* <br>\n",
    "3"
   ]
  },
  {
   "cell_type": "code",
   "execution_count": 14,
   "metadata": {
    "colab": {},
    "colab_type": "code",
    "id": "xktF2cocPzZv"
   },
   "outputs": [
    {
     "name": "stdout",
     "output_type": "stream",
     "text": [
      "5\n",
      "5\n",
      "2\n",
      "7\n",
      "8\n",
      "9\n",
      "0\n",
      "2\n"
     ]
    }
   ],
   "source": [
    "count = 0\n",
    " \n",
    "while True:\n",
    "  n = int(input())\n",
    "  if n == 0:\n",
    "    break\n",
    "  elif not n % 2:\n",
    "    count += 1\n",
    " \n",
    "print(count)"
   ]
  },
  {
   "cell_type": "markdown",
   "metadata": {
    "colab_type": "text",
    "id": "hyC9QGXPPzZx"
   },
   "source": [
    "### 11\n",
    "\n",
    "Напишите программу, которая формирует список игроков женской команды по мини-футболу. Программа должна записывать возраст и пол претендента. Возраст должен запрашиваться после пола и только в том случае, если пол претендента женский. Если пол претендента мужской, программа должна сообщать о том, что он не подходит. Возраст претенденток должен быть от 18 до 35 лет. Если кандидат удовлетворяет требованиям, должно появляться соответствующее сообщение. Всего в команде могут быть только шесть человек. Когда необходимое число набирается, запись закрывается и выводится сообщение \"Запись в команду закрыта\".\n"
   ]
  },
  {
   "cell_type": "code",
   "execution_count": 56,
   "metadata": {
    "colab": {},
    "colab_type": "code",
    "id": "qSDK-zQ4PzZx"
   },
   "outputs": [
    {
     "name": "stdout",
     "output_type": "stream",
     "text": [
      "Введите пол (м/ж): ж\n",
      "Вы подходите\n",
      "Введите возраст: 23\n",
      "Вы подходите\n",
      "Введите пол (м/ж): ж\n",
      "Вы подходите\n",
      "Введите возраст: 24\n",
      "Вы подходите\n",
      "Введите пол (м/ж): ж\n",
      "Вы подходите\n",
      "Введите возраст: 25\n",
      "Вы подходите\n",
      "Введите пол (м/ж): ж\n",
      "Вы подходите\n",
      "Введите возраст: 26\n",
      "Вы подходите\n",
      "Введите пол (м/ж): ж\n",
      "Вы подходите\n",
      "Введите возраст: 27\n",
      "Вы подходите\n",
      "Введите пол (м/ж): ж\n",
      "Вы подходите\n",
      "Введите возраст: 28\n",
      "Вы подходите\n",
      "Введите пол (м/ж): ж\n",
      "Вы подходите\n",
      "Введите возраст: 29\n",
      "Вы подходите\n",
      "Команда укомплектована\n"
     ]
    }
   ],
   "source": [
    "number = 0\n",
    "while 1:\n",
    "    sex = input ('Введите пол (м/ж): ').lower()\n",
    "    if sex == 'ж':\n",
    "        print('Вы подходите')\n",
    "    if sex == 'м':\n",
    "        print('Пол не подходит. Необходимо ввести женский пол')\n",
    "        continue\n",
    "    age = int(input('Введите возраст: '))\n",
    "    if 18 < age < 35:\n",
    "        print('Вы подходите')\n",
    "    number += 1\n",
    "    if number > 6:\n",
    "        break\n",
    "    else:\n",
    "        continue\n",
    "print('Команда укомплектована') "
   ]
  },
  {
   "cell_type": "markdown",
   "metadata": {
    "colab_type": "text",
    "id": "B4JAB8AqPzZ0"
   },
   "source": [
    "### 12\n",
    "\n",
    "\n",
    "Напишите программу, которая на вход получает максимальную ширину ромба и рисует его. Гарантируется, что входное число всегда нечетное.\n",
    "<br><br>\n",
    "\n",
    "*Формат ввода:* <br>\n",
    "5<br><br>\n",
    "\n",
    "*Формат вывода:* <br>\n",
    "```  \n",
    "  *\n",
    " ***\n",
    "*****\n",
    " ***\n",
    "  *```"
   ]
  },
  {
   "cell_type": "code",
   "execution_count": 11,
   "metadata": {
    "colab": {},
    "colab_type": "code",
    "id": "WVp7O75oPzZ0"
   },
   "outputs": [
    {
     "name": "stdout",
     "output_type": "stream",
     "text": [
      "8\n",
      "\n",
      "\n",
      "*\n",
      "**\n",
      "***\n",
      "****\n",
      "*****\n",
      "******\n",
      "*******\n",
      "********\n",
      "*******\n",
      "******\n",
      "*****\n",
      "****\n",
      "***\n",
      "**\n",
      "*\n",
      "\n"
     ]
    }
   ],
   "source": [
    "n = int(input())\n",
    "m = -1\n",
    "x = range (m,n+1)\n",
    "while m <= n:\n",
    "    m += 1\n",
    "    print((((x)[m])) * '*')\n",
    "    continue\n",
    "while m -1 > 0:\n",
    "    m = m - 1\n",
    "    print((((x)[m])) * '*')\n",
    "    continue\n",
    "    if m == 0:\n",
    "        break"
   ]
  },
  {
   "cell_type": "markdown",
   "metadata": {
    "colab_type": "text",
    "id": "xrIXWj0yPzZ2"
   },
   "source": [
    "### 13\n",
    "\n",
    "Напишите программу, которая запрашивает у пользователя сторону квадрата и символ, а затем рисует этот символ по диагоналям квадрата. Гарантируется, что входное число всегда нечетное.\n",
    "<br><br>\n",
    "\n",
    "*Формат ввода:* <br>\n",
    "5<br>\n",
    "\\#<br><br>\n",
    "\n",
    "*Формат вывода:* <br>\n",
    "```\n",
    " \n",
    "#   #\n",
    " # #\n",
    "  #  \n",
    " # #\n",
    "#   #\n",
    "```"
   ]
  },
  {
   "cell_type": "code",
   "execution_count": 0,
   "metadata": {
    "colab": {},
    "colab_type": "code",
    "id": "oUKNB9TaPzZ3"
   },
   "outputs": [],
   "source": [
    "### YOUR CODE HERE ###\n",
    "\n"
   ]
  },
  {
   "cell_type": "markdown",
   "metadata": {
    "colab_type": "text",
    "id": "3GaiPsFYPzZ_"
   },
   "source": [
    "### 14\n",
    "\n",
    "В корзине лежат шары. Если разложить их в кучи по 2, останется один. Если разложить в кучи по 3, останется один. Если разложить в кучи по 4, останется один. Если разложить в кучи по 5, останется один. Если разложить в кучи по 6, останется один. Если разложить в кучи по 7, не будет остатка. Нужно найти минимальное количество шаров, удовлетворяющее условию.  <br>"
   ]
  },
  {
   "cell_type": "code",
   "execution_count": 12,
   "metadata": {
    "colab": {},
    "colab_type": "code",
    "id": "V2msEhQkPzZ_"
   },
   "outputs": [
    {
     "name": "stdout",
     "output_type": "stream",
     "text": [
      "301\n"
     ]
    }
   ],
   "source": [
    "n = 1\n",
    "while n % 2 == 1:\n",
    "    n += 1\n",
    "    continue\n",
    "while n % 3 == 1:\n",
    "    n += 1\n",
    "    continue\n",
    "while n % 4 == 1:\n",
    "    n += 1\n",
    "    continue\n",
    "while n % 5 == 1:\n",
    "    n += 1\n",
    "    continue\n",
    "while n % 6 == 1:\n",
    "    n += 1\n",
    "    continue\n",
    "while (n*60+1) % 7 != 0:\n",
    "    n += 1\n",
    "print ((n*60+1))"
   ]
  },
  {
   "cell_type": "markdown",
   "metadata": {
    "colab_type": "text",
    "id": "5pOjlON-PzaC"
   },
   "source": [
    "### 15\n",
    "\n",
    "Рабочие клеили обои на стены. Первую стену поклеили за M минут, а каждую следующую на 5 минут больше, чем предыдущую.\n",
    "Напишите программу, которая запрашивает сколько стен было в квартире под поклейку, а также время работы с первой стеной в минутах. Программа должна выводить, сколько **часов** рабочие потратили на поклейку обоев во всей квартире. Час отсчитывается с первой минуты. Ответом должно быть целое число. \n",
    "<br><br>\n",
    "*Ограничение: нельзя пользоваться готовыми функциями `bool()`, `floor()` и их аналогами.*\n",
    "<br><br>\n",
    "*Формат ввода:* <br>\n",
    "6<br>\n",
    "10<br><br>\n",
    "\n",
    "*Формат вывода:* <br>\n",
    "3"
   ]
  },
  {
   "cell_type": "code",
   "execution_count": 15,
   "metadata": {
    "colab": {},
    "colab_type": "code",
    "id": "Pmu96rWGPzaD"
   },
   "outputs": [
    {
     "name": "stdout",
     "output_type": "stream",
     "text": [
      "Введите количество стен: 6\n",
      "Введите время покраски первой стены: 10\n",
      "Общее время: 165\n"
     ]
    },
    {
     "data": {
      "text/plain": [
       "3"
      ]
     },
     "execution_count": 15,
     "metadata": {},
     "output_type": "execute_result"
    }
   ],
   "source": [
    "import math\n",
    "n_walls = int(input('Введите количество стен: '))\n",
    "minut_walls = int(input('Введите время покраски первой стены: '))\n",
    "full_time = 0\n",
    "for i in range(n_walls):\n",
    "    minut_walls += 5\n",
    "    full_time += minut_walls\n",
    "print('Общее время:', full_time)\n",
    "math.ceil(full_time / 60)"
   ]
  },
  {
   "cell_type": "markdown",
   "metadata": {
    "colab_type": "text",
    "id": "63C6Za3CPzaF"
   },
   "source": [
    "### 16\n",
    "\n",
    "Напишите программу, которая убирает из списка повторяющиеся элементы. Программа должна запрашивать на вход слова, каждое с новой строки, пока пользователь не введет пустую строку. Затем должна выводить список без повторяющихся элементов. \n",
    "<br><br>\n",
    "*Ограничение: нельзя пользоваться готовой функцией `set()` и ее аналогами.*\n",
    "\n",
    "<br><br>\n",
    "*Формат ввода:* <br>\n",
    "Алиса<br>\n",
    "Алиса<br>\n",
    "Алиса<br>\n",
    "Петя<br>\n",
    "<br><br>\n",
    "\n",
    "*Формат вывода:* <br>\n",
    "[Алиса, Петя]"
   ]
  },
  {
   "cell_type": "code",
   "execution_count": 2,
   "metadata": {
    "colab": {},
    "colab_type": "code",
    "id": "MQ-eDkbAPzaG"
   },
   "outputs": [
    {
     "name": "stdout",
     "output_type": "stream",
     "text": [
      "Введите имя: Алиса\n",
      "Введите имя: Алиса\n",
      "Введите имя: Алиса\n",
      "Введите имя: Алиса\n",
      "Введите имя: Петя\n",
      "Введите имя: \n",
      "['Алиса', 'Петя']\n",
      "['Алиса', 'Петя']\n"
     ]
    }
   ],
   "source": [
    "name = input('Введите имя: ')\n",
    "name_list = []\n",
    "\n",
    "while True:\n",
    "    name = input('Введите имя: ')\n",
    "    if name == '':\n",
    "        print(name_list)\n",
    "        break\n",
    "    else: \n",
    "        if name in name_list: \n",
    "            continue\n",
    "        else:\n",
    "            name_list.append(name)\n",
    "            continue\n",
    "    \n",
    "print(name_list)"
   ]
  },
  {
   "cell_type": "markdown",
   "metadata": {
    "colab_type": "text",
    "id": "jueSDORaPzaI"
   },
   "source": [
    "### 17\n",
    "\n",
    "Напишите программу, которая выводит число пар одинаковых элементов в списке. При этом если два элемента образовали пару, они не могут вступить в пару с другими элементами. Программа должна запрашивать на вход слова, каждое с новой строки, пока пользователь не введет пустую строку. \n",
    "<br><br>\n",
    "*Формат ввода:* <br>\n",
    "Алиса<br>\n",
    "Алиса<br>\n",
    "Алиса<br>\n",
    "<br><br>\n",
    "\n",
    "*Формат вывода:* <br>\n",
    "1"
   ]
  },
  {
   "cell_type": "code",
   "execution_count": 5,
   "metadata": {
    "colab": {},
    "colab_type": "code",
    "id": "49tbEr3NPzaJ"
   },
   "outputs": [
    {
     "name": "stdout",
     "output_type": "stream",
     "text": [
      "Введите имя: Алиса\n",
      "Введите имя: Алиса\n",
      "Введите имя: Алиса\n",
      "Введите имя: \n",
      "['Алиса', 'Алиса', 'Алиса', '']\n",
      "1\n"
     ]
    }
   ],
   "source": [
    "name = input('Введите имя: ')\n",
    "name_list = []\n",
    "name_list.append(name)\n",
    "counter = 1\n",
    "\n",
    "for i in name_list:\n",
    "    name = input('Введите имя: ')\n",
    "    name_list.append(name)\n",
    "    if name == '':\n",
    "        break\n",
    "\n",
    "for j in range(len(name_list)):\n",
    "    if j+1 in range(len(name_list)):\n",
    "        if name_list[j] == name_list[j+1]:\n",
    "            counter += 1\n",
    "            continue\n",
    "\n",
    "print(name_list)\n",
    "print(counter // 2)"
   ]
  },
  {
   "cell_type": "markdown",
   "metadata": {
    "colab_type": "text",
    "id": "yVLcBrD-PzaN"
   },
   "source": [
    "### 18\n",
    "\n",
    "Будем считать, что кубик может иметь неограниченное количество граней (натуральное число). Напишите программу, которая запрашивает, сколько граней имеется у двух разных кубиков. Затем выводит все возможные комбинации результатов бросков двух таких кубиков. \n",
    "<br><br>\n",
    "*Формат ввода:* <br>\n",
    "3<br>\n",
    "4<br><br>\n",
    "\n",
    "*Формат вывода:* <br>\n",
    "1 1<br>\n",
    "1 2<br>\n",
    "1 3<br>\n",
    "1 4<br>\n",
    "2 1<br>\n",
    "2 2<br>\n",
    "2 3<br>\n",
    "2 4<br>\n",
    "3 1<br>\n",
    "3 2<br>\n",
    "3 3<br>\n",
    "3 4<br>"
   ]
  },
  {
   "cell_type": "code",
   "execution_count": 4,
   "metadata": {
    "colab": {},
    "colab_type": "code",
    "id": "7I2va0KwPzaR"
   },
   "outputs": [
    {
     "name": "stdout",
     "output_type": "stream",
     "text": [
      "3\n",
      "4\n",
      "1 1\n",
      "1 2\n",
      "1 3\n",
      "1 4\n",
      "2 1\n",
      "2 2\n",
      "2 3\n",
      "2 4\n",
      "3 1\n",
      "3 2\n",
      "3 3\n",
      "3 4\n"
     ]
    }
   ],
   "source": [
    "F1 = int(input())\n",
    "F2 = int(input())\n",
    "C3 = [s for s in range(1,F1 + 1)]\n",
    "C4 = [m for m in range (1,F2 + 1)]\n",
    "for i in range(len(C3)):\n",
    "    for k in range(len (C4)):\n",
    "        print (C3[i],C4[k])"
   ]
  }
 ],
 "metadata": {
  "colab": {
   "collapsed_sections": [],
   "name": "jun_anl_loops_and_ifs.ipynb",
   "provenance": []
  },
  "kernelspec": {
   "display_name": "Python 3 (ipykernel)",
   "language": "python",
   "name": "python3"
  },
  "language_info": {
   "codemirror_mode": {
    "name": "ipython",
    "version": 3
   },
   "file_extension": ".py",
   "mimetype": "text/x-python",
   "name": "python",
   "nbconvert_exporter": "python",
   "pygments_lexer": "ipython3",
   "version": "3.9.12"
  }
 },
 "nbformat": 4,
 "nbformat_minor": 1
}
