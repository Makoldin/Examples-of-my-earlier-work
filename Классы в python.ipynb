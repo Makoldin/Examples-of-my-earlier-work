{
 "cells": [
  {
   "cell_type": "markdown",
   "metadata": {
    "colab_type": "text",
    "id": "RbR5OTe50Za4"
   },
   "source": [
    "# Классы\n",
    "## Домашнее задание"
   ]
  },
  {
   "cell_type": "markdown",
   "metadata": {
    "colab_type": "text",
    "id": "Xh_DBCdu0Za5"
   },
   "source": [
    "### Вопросы по лекциям\n",
    "\n",
    "#### 1.\n",
    "\n",
    "Напишите название функции, которая является конструктором класса."
   ]
  },
  {
   "cell_type": "markdown",
   "metadata": {
    "colab_type": "text",
    "id": "8-Tj4AMg0Za6"
   },
   "source": [
    "**Ответ:** class"
   ]
  },
  {
   "cell_type": "markdown",
   "metadata": {
    "colab_type": "text",
    "id": "lf14yx330Za7"
   },
   "source": [
    "#### 2.\n",
    "\n",
    "На что указывает переменная `self`?"
   ]
  },
  {
   "cell_type": "markdown",
   "metadata": {
    "colab_type": "text",
    "id": "wI-0FWlF0Za8"
   },
   "source": [
    "**Ответ:** на сам объект"
   ]
  },
  {
   "cell_type": "markdown",
   "metadata": {
    "colab_type": "text",
    "id": "j_8_O_nl0Za8"
   },
   "source": [
    "#### 3.\n",
    "С помощью какой функции можно проверить, что некая строка является именем одного из атрибутов объекта?"
   ]
  },
  {
   "cell_type": "markdown",
   "metadata": {
    "colab_type": "text",
    "id": "5h8ASTrV0Za9"
   },
   "source": [
    "**Ответ:** self.format"
   ]
  },
  {
   "cell_type": "markdown",
   "metadata": {
    "colab_type": "text",
    "id": "G104VWgj0Za-"
   },
   "source": [
    "#### 4.\n",
    "Когда вызывается метод `__del__`? (относительно события удаления объекта)"
   ]
  },
  {
   "cell_type": "markdown",
   "metadata": {
    "colab_type": "text",
    "id": "Ukzoyxkn0Za-"
   },
   "source": [
    "**Ответ:** По-разному, может быть вызван по окончанию обрабатывания всего кода. Но такое бывает не всегда"
   ]
  },
  {
   "cell_type": "markdown",
   "metadata": {
    "colab_type": "text",
    "id": "MkF-HyBM0ZbA"
   },
   "source": [
    "#### 5.\n",
    "Верно ли, что атрибут класса перекрывает атрибут объекта?"
   ]
  },
  {
   "cell_type": "markdown",
   "metadata": {
    "colab_type": "text",
    "id": "o7B52kVt0ZbC"
   },
   "source": [
    "**Ответ:** Да"
   ]
  },
  {
   "cell_type": "markdown",
   "metadata": {
    "colab_type": "text",
    "id": "kSwZWV2B0ZbC"
   },
   "source": [
    "#### 6.\n",
    "Можно ли атрибуты базового класса вызывать в дочернем классе? Если да, то напишите, нет ли исклчений?"
   ]
  },
  {
   "cell_type": "markdown",
   "metadata": {
    "colab_type": "text",
    "id": "6i74Koih0ZbE"
   },
   "source": [
    "**Ответ:** Да, если эти атрибуты не заданы в дочернем классе."
   ]
  },
  {
   "cell_type": "markdown",
   "metadata": {
    "colab_type": "text",
    "id": "tl1St2O20ZbE"
   },
   "source": [
    "#### 7.\n",
    "Объясните своими словами для чего нужен метод `super`."
   ]
  },
  {
   "cell_type": "markdown",
   "metadata": {
    "colab_type": "text",
    "id": "rg3u1PoY0ZbF"
   },
   "source": [
    "**Ответ:** чтобы обращаться к атрибутам родительского класса"
   ]
  },
  {
   "cell_type": "markdown",
   "metadata": {
    "colab_type": "text",
    "id": "5AiJn8ut0ZbG"
   },
   "source": [
    "### Практика\n",
    "\n",
    "1. Напишите класс `Fraction` для работы с дробями. Пусть дробь в нашем классе предстает в виде `числитель/знаменатель`. Дробное число должно создаваться по запросу `Fraction(a, b)`, где `a` – это числитель, а `b` – знаменатель дроби. \n",
    "2. Добавьте возможность сложения (сложения через оператор сложения) для дроби. Предполагается, что операция сложения может проводиться как только между дробями, так и между дробью и целым числом. Результат операции должен быть представлен в виде дроби.\n",
    "3. Добавьте возможность взятия разности (вычитания через оператор вычитания) для дробей. Предполагается, что операция вычитания может проводиться как только для двух дробей, так и для дроби и целого числа. Результат операции должен быть представлен в виде дроби.\n",
    "4. Добавьте возможность умножения (умножения через оператор умножения) для дробей. Предполагается, что операция умножения может проводиться как только для двух дробей, так и для дроби и целого числа. Результат операции должен быть представлен в виде дроби.\n",
    "5. Добавьте возможность приведения дроби к целому числу через стандартную функцию `int()`.\n",
    "6. Добавьте возможность приведения дроби к числу с плавающей точкой через стандартную функцию `float()`.\n",
    "7. Создайте дочерний класс `OperationsOnFraction` и добавьте туда собственные методы `getint` и `getfloat`, которые будут возвращать целую часть дроби и представление дроби в виде числа с плавающей точкой соответственно. \n",
    " "
   ]
  },
  {
   "cell_type": "code",
   "execution_count": 1,
   "metadata": {
    "colab": {},
    "colab_type": "code",
    "id": "ru3BJ52J0ZbG"
   },
   "outputs": [
    {
     "name": "stdout",
     "output_type": "stream",
     "text": [
      "Введи числитель дроби №1: 1\n",
      "Введи знаменатель дроби №1: 2\n",
      "1/2\n",
      "Введи числитель дроби №2: 3\n",
      "Введи знаменатель дроби №2: 4\n",
      "3/4\n",
      "сложение:  4/8\n",
      "Вычитание:  -2/8\n",
      "умножение:  3/8\n",
      "Деление:  4/6\n",
      "Целое число:  0\n",
      "Обыкновенная дробь:  0.5\n",
      "Введите числитель №3: 5\n",
      "Введите знаменатель №3: 6\n",
      "0\n",
      "0.8333333333333334\n"
     ]
    }
   ],
   "source": [
    "class Fractions:\n",
    "\n",
    "    def __init__(self, a, b):\n",
    "        self.a = a\n",
    "        self.b = b\n",
    "\n",
    "    def __str__(self):\n",
    "        return str(self.a) + '/' + str(self.b)\n",
    "\n",
    "    def show(self):\n",
    "        print(self.a, '/', self.b, sep=' ')\n",
    "\n",
    "    def __add__(self, otherfraction):\n",
    "        if isinstance(otherfraction, int):\n",
    "            y = self.b + self.a\n",
    "            z = self.b\n",
    "        else:\n",
    "            y = self.a + otherfraction.a  # это числитель\n",
    "            if self.b == otherfraction.b:\n",
    "                z = self.b # это знаменатель\n",
    "            else:\n",
    "                z = self.b * otherfraction.b\n",
    "            return Fractions(y, z)\n",
    "\n",
    "    def __sub__(self, otherfraction):\n",
    "        if isinstance(otherfraction, int):\n",
    "            y = otherfraction * self.b - self.a\n",
    "            z = self.b\n",
    "        else:\n",
    "            if self.a * otherfraction.b - self.b * otherfraction.a != 0:\n",
    "                y = 1\n",
    "                z = self.b * otherfraction.b\n",
    "        if self.a * otherfraction.b - self.b * otherfraction.a != 0:\n",
    "            y = self.a * otherfraction.b - self.b * otherfraction.a\n",
    "            z = self.b * otherfraction.b\n",
    "            return Fractions(y, z)\n",
    "\n",
    "    def __mul__(self, otherfraction):\n",
    "        if isinstance(otherfraction, int):\n",
    "            y = otherfraction * self.a\n",
    "            z = self.b\n",
    "        else:\n",
    "            y = self.a * otherfraction.a\n",
    "            z = self.b * otherfraction.b\n",
    "            return Fractions(y, z)\n",
    "\n",
    "    def __truediv__(self, otherfraction):\n",
    "        if isinstance(otherfraction, int):\n",
    "            y = otherfraction * self.b\n",
    "            z = self.a\n",
    "        else:\n",
    "            y = self.a * otherfraction.b\n",
    "            z = self.b * otherfraction.a\n",
    "            return Fractions(y, z)\n",
    "\n",
    "    def __int__(self):\n",
    "        y = self.a // self.b\n",
    "        return y\n",
    "        print(y)\n",
    "\n",
    "    def __float__(self):\n",
    "        y = self.a / self.b\n",
    "        return y\n",
    "        print(y)\n",
    "\n",
    "    def getint(self, ac3, bd3):\n",
    "        y = self.a // self.b\n",
    "        return y\n",
    "        print(y)\n",
    "\n",
    "    def getfloat(self, ac3, bd3):\n",
    "        y = self.a / self.b\n",
    "        print(y)\n",
    "        return (y)\n",
    "        print(y)\n",
    "\n",
    "\n",
    "class OperationsOnFraction(Fractions):\n",
    "\n",
    "    def getint(self):\n",
    "        super().__int__()\n",
    "\n",
    "    def getfloat(self, ac3, bd3):\n",
    "        super().__float__()\n",
    "\n",
    "\n",
    "ac1 = int(input('Введи числитель дроби №1: '))\n",
    "bd1 = int(input('Введи знаменатель дроби №1: '))\n",
    "result_1 = Fractions(ac1, bd1)\n",
    "print(result_1)\n",
    "\n",
    "ac2 = int(input('Введи числитель дроби №2: '))\n",
    "bd2 = int(input('Введи знаменатель дроби №2: '))\n",
    "result_2 = Fractions(ac2, bd2)\n",
    "print(result_2)\n",
    "\n",
    "slog = result_1 + result_2\n",
    "print('сложение: ', slog)\n",
    "vich = result_1 - result_2\n",
    "print('Вычитание: ', vich)\n",
    "ymnog = result_1 * result_2\n",
    "print('умножение: ', ymnog)\n",
    "delen = result_1 / result_2\n",
    "print('Деление: ', delen)\n",
    "\n",
    "print('Целое число: ', int(result_1))\n",
    "print('Обыкновенная дробь: ', float(result_1))\n",
    "\n",
    "ac3 = int(input('Введите числитель №3: '))\n",
    "bd3 = int(input('Введите знаменатель №3: '))\n",
    "result_3 = OperationsOnFraction(ac3, bd3)\n",
    "print(int(result_3))\n",
    "print(float(result_3))\n"
   ]
  }
 ],
 "metadata": {
  "colab": {
   "collapsed_sections": [],
   "name": "jun_anl_class.ipynb",
   "provenance": []
  },
  "kernelspec": {
   "display_name": "Python 3 (ipykernel)",
   "language": "python",
   "name": "python3"
  },
  "language_info": {
   "codemirror_mode": {
    "name": "ipython",
    "version": 3
   },
   "file_extension": ".py",
   "mimetype": "text/x-python",
   "name": "python",
   "nbconvert_exporter": "python",
   "pygments_lexer": "ipython3",
   "version": "3.9.12"
  }
 },
 "nbformat": 4,
 "nbformat_minor": 1
}
