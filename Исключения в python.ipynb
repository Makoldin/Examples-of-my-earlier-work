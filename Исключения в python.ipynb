{
 "cells": [
  {
   "cell_type": "markdown",
   "metadata": {
    "colab_type": "text",
    "id": "c2KtXmjxtgw-"
   },
   "source": [
    "# Исключения\n",
    "## Домашняя работа"
   ]
  },
  {
   "cell_type": "markdown",
   "metadata": {
    "colab_type": "text",
    "id": "0Vhx-zKitgxA"
   },
   "source": [
    "### Вопросы по лекциям."
   ]
  },
  {
   "cell_type": "markdown",
   "metadata": {
    "colab_type": "text",
    "id": "14lleKewtgxC"
   },
   "source": [
    "Как поймать вообще все ошибки, которые могут произойти?"
   ]
  },
  {
   "cell_type": "markdown",
   "metadata": {
    "colab_type": "text",
    "id": "VQnYGkVKtgxD"
   },
   "source": [
    "**Ответ:** Написать код \n",
    "try:\n",
    "    *код*\n",
    "exept Exeption:\n"
   ]
  },
  {
   "cell_type": "markdown",
   "metadata": {
    "colab_type": "text",
    "id": "paSc2JE6tgxD"
   },
   "source": [
    "Сколько раз подряд можно указывать except?"
   ]
  },
  {
   "cell_type": "markdown",
   "metadata": {
    "colab_type": "text",
    "id": "bU0lzJPBtgxE"
   },
   "source": [
    "**Ответ:**\n",
    "сколько необходимо. (много)\n"
   ]
  },
  {
   "cell_type": "markdown",
   "metadata": {
    "colab_type": "text",
    "id": "9wQ-yXpGtgxF"
   },
   "source": [
    "Вы хотите с помощью print вывести название ошибки в консоль, как это сделать?"
   ]
  },
  {
   "cell_type": "markdown",
   "metadata": {
    "colab_type": "text",
    "id": "iE1iqRZctgxH"
   },
   "source": [
    "**Ответ:**\n",
    "except Exception as exc:\n",
    "    print(f'Alarm! Возникла ошибка {exc}')\n"
   ]
  },
  {
   "cell_type": "markdown",
   "metadata": {
    "colab_type": "text",
    "id": "EDAi3ZFBtgxI"
   },
   "source": [
    "Вы хотите с помощью print вывести параметры ошибки в консоль, как это сделать?"
   ]
  },
  {
   "cell_type": "markdown",
   "metadata": {
    "colab_type": "text",
    "id": "qWimgtF3tgxK"
   },
   "source": [
    "**Ответ:**\n",
    "except Exception as exc:\n",
    "    print(f'Alarm! Возникла ошибка {exc}, {exc.args}')"
   ]
  },
  {
   "cell_type": "markdown",
   "metadata": {
    "colab_type": "text",
    "id": "leOCJIlRtgxK"
   },
   "source": [
    "Что такое DeprecationWarning?"
   ]
  },
  {
   "cell_type": "markdown",
   "metadata": {
    "colab_type": "text",
    "id": "KyaynuyvtgxL"
   },
   "source": [
    "**Ответ:**\n",
    "Предупреждение о том, что код в библеотеке работает, но в следующем релизе будут изменения и возможно этот код в будущем не сработает.\n"
   ]
  },
  {
   "cell_type": "markdown",
   "metadata": {
    "colab_type": "text",
    "id": "oxgCUHzotgxM"
   },
   "source": [
    "### Разминочные задания. \n",
    "<br>\n",
    "\n",
    "Вам даны две функции. Поисследуйте, какие ошибки могут возникнуть при их реализации. Обработайте эти ошибки."
   ]
  },
  {
   "cell_type": "code",
   "execution_count": 0,
   "metadata": {
    "colab": {},
    "colab_type": "code",
    "id": "X4nsMUUAtgxN"
   },
   "outputs": [],
   "source": [
    "def div(i):\n",
    "        x = int(input(\"enter a number: \"))\n",
    "        y = int(input(\"enter another number: \"))\n",
    "        print(x, '/', y, '=', x/y)\n",
    "\n",
    "\n",
    "for i in range(10):\n",
    "    try:\n",
    "        div(i)\n",
    "        print(i)\n",
    "    except ValueError as exc:\n",
    "        print(f'тут должно быть целое число', {exc.args})\n",
    "        pass\n",
    "    except ZeroDivisionError as exc:\n",
    "        print(f'ну какое деление на ноль?', {exc.args})\n",
    "        pass\n"
   ]
  },
  {
   "cell_type": "code",
   "execution_count": 2,
   "metadata": {
    "colab": {},
    "colab_type": "code",
    "id": "hoDmt-nStgxS"
   },
   "outputs": [
    {
     "name": "stdout",
     "output_type": "stream",
     "text": [
      "sumOfPairs =  3\n",
      "['hh', 'oe', 'll', 'll', 'ao']\n"
     ]
    }
   ],
   "source": [
    "L1 = 'holla'\n",
    "L2 = 'hello'\n",
    "sum = 0\n",
    "sumOfPairs = []\n",
    "\n",
    "try:\n",
    "    for i in range(len(L1)):\n",
    "        sumOfPairs.append(L1[i]+L2[i])\n",
    "        if L1[i] == L2[i]:\n",
    "            sum += 1\n",
    "except TypeError as exc:\n",
    "    print(f'Указан неверный тип параметра L: ', {exc})\n",
    "except NameError as exc:\n",
    "    print(f'Не задана переменная ', {exc.args})\n",
    "except AttributeError as exc:\n",
    "    print(f'Ошибка атрибута объекта: ', {exc.args})\n",
    "except IndexError as exc:\n",
    "    print(f'Ошибка длинны строки L1 или L2: ', {exc.args})\n",
    "    \n",
    "print(\"sumOfPairs = \", sum)\n",
    "print(sumOfPairs)"
   ]
  },
  {
   "cell_type": "markdown",
   "metadata": {
    "colab_type": "text",
    "id": "geX0-Zq6tgxU"
   },
   "source": [
    "### Задание 1.\n",
    "\n",
    "Есть файл с протоколом регистраций пользователей на сайте (registrations.txt).<br>\n",
    "Каждая строка содержит информацию о имени, электронной почте и возрасте человека. <br><br>\n",
    "\n",
    "\n",
    "Надо проверить данные из файла, для каждой строки:\n",
    " - присутсвуют все три поля\n",
    " - поле имени содержит только буквы\n",
    " - поле email содержит @ и .\n",
    " - поле возраст является числом от 10 до 99<br>\n",
    "\n",
    "В результате проверки нужно сформировать два файла\n",
    " - registrations_good.log для правильных данных, записывать строки как есть\n",
    "- registrations_bad.log для ошибочных, записывать строку и вид ошибки.<br>\n",
    "\n",
    "Для валидации строки данных написать метод, который может выкидывать исключения:\n",
    " - НЕ присутсвуют все три поля: ValueError\n",
    " - поле имени содержит НЕ только буквы: NotNameError (кастомное исключение)\n",
    " - поле email НЕ содержит @ и .(точку): NotEmailError (кастомное исключение)\n",
    " - поле возраст НЕ является числом от 10 до 99: ValueError\n",
    "Вызов метода обернуть в try-except."
   ]
  },
  {
   "cell_type": "code",
   "execution_count": 0,
   "metadata": {
    "colab": {},
    "colab_type": "code",
    "id": "Eq2Ax0LntgxW"
   },
   "outputs": [],
   "source": [
    "liniya = 0\n",
    "def regist(line):\n",
    "    name, mail, age = line.split(' ')\n",
    "\n",
    "error_file = open(\"error_names.txt\", \"w+\")\n",
    "correct_file = open(\"correct_names.txt\", \"w+\")\n",
    "\n",
    "with open('registrations_.txt', 'r', encoding='UTF-8') as ff:\n",
    "    for line in ff:\n",
    "        try:\n",
    "            line = str(line)\n",
    "            name = line.split(' ')[0]\n",
    "            mail = line.split(' ')[1]\n",
    "            age = line.split(' ')[2]\n",
    "            if name.isalpha():\n",
    "                if mail in line:\n",
    "                    if '@' and '.' in mail:\n",
    "                        if age in line:\n",
    "                            n_age = int(age)\n",
    "                            if n_age < 99:\n",
    "                                if n_age > 10:\n",
    "                                    print(line)\n",
    "                                    liniya += 1\n",
    "                                    print(liniya)\n",
    "                                    correct_file.write(line)\n",
    "                                else:\n",
    "                                    error_file.write(line)\n",
    "                            else:\n",
    "                                error_file.write(line)\n",
    "                        else:\n",
    "                            error_file.write(line)\n",
    "                    else:\n",
    "                        error_file.write(line)\n",
    "                else:\n",
    "                    error_file.write(line)\n",
    "            else:\n",
    "                error_file.write(line)\n",
    "        except Exception as exc:\n",
    "            st = str(liniya)\n",
    "            er = str(exc.args)\n",
    "            error_file.write(line)\n",
    "            error_file.write(st)\n",
    "            error_file.write(er)\n",
    "            continue\n"
   ]
  }
 ],
 "metadata": {
  "colab": {
   "name": "jun_anl_exeptions.ipynb",
   "provenance": [],
   "version": "0.3.2"
  },
  "kernelspec": {
   "display_name": "Python 3 (ipykernel)",
   "language": "python",
   "name": "python3"
  },
  "language_info": {
   "codemirror_mode": {
    "name": "ipython",
    "version": 3
   },
   "file_extension": ".py",
   "mimetype": "text/x-python",
   "name": "python",
   "nbconvert_exporter": "python",
   "pygments_lexer": "ipython3",
   "version": "3.9.12"
  }
 },
 "nbformat": 4,
 "nbformat_minor": 1
}
